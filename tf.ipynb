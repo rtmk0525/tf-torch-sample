{
 "cells": [
  {
   "cell_type": "code",
   "execution_count": null,
   "metadata": {},
   "outputs": [],
   "source": [
    "import numpy as np\n",
    "import tensorflow as tf\n",
    "from keras.layers import Dense\n",
    "from keras.models import Sequential\n",
    "\n",
    "# GPUが利用可能かどうかをチェック\n",
    "physical_devices = tf.config.list_physical_devices(\"GPU\")\n",
    "if len(physical_devices) > 0:\n",
    "    # Restrict TensorFlow to only use the first GPU\n",
    "    try:\n",
    "        tf.config.set_visible_devices(physical_devices[0], \"GPU\")\n",
    "        logical_gpus = tf.config.list_logical_devices(\"GPU\")\n",
    "        print(len(physical_devices), \"Physical GPUs,\", len(logical_gpus), \"Logical GPU\")\n",
    "        print(f'{physical_devices=}')\n",
    "        print(f'{logical_gpus=}')\n",
    "    except RuntimeError as e:\n",
    "        # Visible devices must be set before GPUs have been initialized\n",
    "        print(e)\n",
    "        tf.config.experimental.set_memory_growth(physical_devices[0], True)\n",
    "\n",
    "# データの生成\n",
    "np.random.seed(0)\n",
    "X = np.random.rand(1000, 5)\n",
    "y = np.random.randint(2, size=(1000, 1))\n",
    "\n",
    "# モデルの構築\n",
    "model = Sequential()\n",
    "model.add(Dense(10, input_dim=5, activation=\"relu\"))\n",
    "model.add(Dense(1, activation=\"sigmoid\"))\n",
    "\n",
    "# モデルのコンパイル\n",
    "model.compile(loss=\"binary_crossentropy\", optimizer=\"adam\", metrics=[\"accuracy\"])\n",
    "\n",
    "# モデルのトレーニング\n",
    "model.fit(X, y, epochs=10, batch_size=32)\n"
   ]
  }
 ],
 "metadata": {
  "language_info": {
   "name": "python"
  },
  "orig_nbformat": 4
 },
 "nbformat": 4,
 "nbformat_minor": 2
}
